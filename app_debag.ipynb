{
 "cells": [
  {
   "cell_type": "markdown",
   "metadata": {},
   "source": [
    "## アプリケーション動作確認"
   ]
  },
  {
   "cell_type": "code",
   "execution_count": 13,
   "metadata": {},
   "outputs": [],
   "source": [
    "# モジュール\n",
    "from modules.models.models import *\n",
    "from modules import spotify_tools as st\n",
    "from app import create_app\n"
   ]
  },
  {
   "cell_type": "code",
   "execution_count": 14,
   "metadata": {},
   "outputs": [],
   "source": [
    "# app定義\n",
    "app = create_app()\n",
    "app.config[\"SQLALCHEMY_DATABASE_URI\"] = \"sqlite:///..\\\\..\\\\data\\\\user_database.db\"\n"
   ]
  },
  {
   "cell_type": "markdown",
   "metadata": {},
   "source": [
    "### SQLAlcemy動作確認\n",
    "- https://flask-sqlalchemy.palletsprojects.com/en/3.1.x/queries/\n",
    "- https://flask-sqlalchemy.palletsprojects.com/en/3.1.x/legacy-query/"
   ]
  },
  {
   "cell_type": "code",
   "execution_count": 15,
   "metadata": {},
   "outputs": [],
   "source": [
    "# db start db = SQLAlchemy()はmodule内で定義されているので重複を避ける\n",
    "db.init_app(app)\n",
    "app.app_context().push()"
   ]
  },
  {
   "cell_type": "code",
   "execution_count": 16,
   "metadata": {},
   "outputs": [
    {
     "name": "stdout",
     "output_type": "stream",
     "text": [
      "2024-03-02 20:39:52,816 INFO sqlalchemy.engine.Engine BEGIN (implicit)\n",
      "2024-03-02 20:39:52,818 INFO sqlalchemy.engine.Engine PRAGMA main.table_info(\"users\")\n",
      "2024-03-02 20:39:52,819 INFO sqlalchemy.engine.Engine [raw sql] ()\n",
      "2024-03-02 20:39:52,822 INFO sqlalchemy.engine.Engine PRAGMA main.table_info(\"fav_artists\")\n",
      "2024-03-02 20:39:52,823 INFO sqlalchemy.engine.Engine [raw sql] ()\n",
      "2024-03-02 20:39:52,826 INFO sqlalchemy.engine.Engine PRAGMA main.table_info(\"sim_users\")\n",
      "2024-03-02 20:39:52,827 INFO sqlalchemy.engine.Engine [raw sql] ()\n",
      "2024-03-02 20:39:52,829 INFO sqlalchemy.engine.Engine COMMIT\n"
     ]
    }
   ],
   "source": [
    "# db作成\n",
    "db.create_all()"
   ]
  },
  {
   "cell_type": "code",
   "execution_count": 17,
   "metadata": {},
   "outputs": [
    {
     "name": "stdout",
     "output_type": "stream",
     "text": [
      "2024-03-02 20:40:11,321 INFO sqlalchemy.engine.Engine BEGIN (implicit)\n",
      "2024-03-02 20:40:11,324 INFO sqlalchemy.engine.Engine INSERT INTO users (user_token, user_name, pass_word, done) VALUES (?, ?, ?, ?)\n",
      "2024-03-02 20:40:11,325 INFO sqlalchemy.engine.Engine [generated in 0.00122s] ('#goose', 'god', 'god', 0)\n",
      "2024-03-02 20:40:11,328 INFO sqlalchemy.engine.Engine COMMIT\n",
      "2024-03-02 20:40:11,336 INFO sqlalchemy.engine.Engine BEGIN (implicit)\n",
      "2024-03-02 20:40:11,338 INFO sqlalchemy.engine.Engine SELECT users.user_token AS users_user_token, users.user_name AS users_user_name, users.pass_word AS users_pass_word, users.done AS users_done \n",
      "FROM users \n",
      "WHERE users.user_token = ?\n",
      " LIMIT ? OFFSET ?\n",
      "2024-03-02 20:40:11,339 INFO sqlalchemy.engine.Engine [generated in 0.00106s] ('#thisistoken', 1, 0)\n"
     ]
    }
   ],
   "source": [
    "# user_listの作成\n",
    "user_list = UserList()\n",
    "# add\n",
    "user_list.add_user(user_token=\"#goose\", display_name=\"god\", pass_word=\"god\") \n",
    "# assert db.session.query(User).filter_by(user_token=\"#thisistoken\").first(), \"Userオブジェクトが作成されていません\"\n"
   ]
  },
  {
   "cell_type": "code",
   "execution_count": 18,
   "metadata": {},
   "outputs": [
    {
     "name": "stdout",
     "output_type": "stream",
     "text": [
      "2024-03-02 20:40:36,518 INFO sqlalchemy.engine.Engine COMMIT\n"
     ]
    }
   ],
   "source": [
    "# errorが出た際にセッション\n",
    "# db.session.rollback()\n",
    "user_list.varified = True\n",
    "db.session.commit()"
   ]
  },
  {
   "cell_type": "code",
   "execution_count": 20,
   "metadata": {},
   "outputs": [
    {
     "name": "stdout",
     "output_type": "stream",
     "text": [
      "2024-03-02 20:41:04,059 INFO sqlalchemy.engine.Engine SELECT users.user_token AS users_user_token, users.user_name AS users_user_name, users.pass_word AS users_pass_word, users.done AS users_done \n",
      "FROM users \n",
      "WHERE users.user_token = ?\n",
      " LIMIT ? OFFSET ?\n",
      "2024-03-02 20:41:04,061 INFO sqlalchemy.engine.Engine [cached since 52.72s ago] ('#goose', 1, 0)\n",
      "\n",
      "\n",
      "user_name: god\n",
      "user_pass: god\n",
      "user_token: #goose\n"
     ]
    }
   ],
   "source": [
    "# check UserList\n",
    "user = user_list.get_user_info(\"#goose\")\n",
    "\n",
    "# 要素の取得\n",
    "# name \n",
    "user_name = user.user_name\n",
    "# password\n",
    "user_pass = user.pass_word\n",
    "# token\n",
    "user_token = user.user_token\n",
    "\n",
    "print(\"\\n\")\n",
    "print(f\"user_name: {user_name}\")\n",
    "print(f\"user_pass: {user_pass}\")\n",
    "print(f\"user_token: {user_token}\")\n"
   ]
  },
  {
   "cell_type": "code",
   "execution_count": 21,
   "metadata": {},
   "outputs": [
    {
     "name": "stdout",
     "output_type": "stream",
     "text": [
      "2024-03-02 20:42:48,671 INFO sqlalchemy.engine.Engine COMMIT\n"
     ]
    }
   ],
   "source": [
    "# db終了\n",
    "db.session.commit()\n",
    "db.session.close()\n",
    "\n"
   ]
  },
  {
   "cell_type": "markdown",
   "metadata": {},
   "source": [
    "### アプリケーション動作"
   ]
  },
  {
   "cell_type": "code",
   "execution_count": null,
   "metadata": {},
   "outputs": [],
   "source": [
    "from flask import Flask, request\n"
   ]
  },
  {
   "cell_type": "code",
   "execution_count": null,
   "metadata": {},
   "outputs": [],
   "source": [
    "# app setting\n",
    "def create_app(config=\"base\"):\n",
    "    # instance_relative_config : 相対的なconfigファイルを指定\n",
    "    app = Flask(__name__, instance_relative_config=True)\n",
    "    app.config.from_mapping(\n",
    "        SECRET_KEY=\"test_secret\"\n",
    "    )\n",
    "\n",
    "    # configファイル : https://qiita.com/nanakenashi/items/e272ff1aafb3889230bc\n",
    "    if config == \"test\":\n",
    "        app.config.from_object(\"config.TestingConfig\")\n",
    "    elif config == \"development\":\n",
    "        app.config.from_object(\"config.DevelopmentConfig\")\n",
    "    elif config == \"base\":\n",
    "        app.config.from_object(\"config.BaseConfig\")\n",
    "\n",
    "    @app.route(\"/v1/get_user_data\", methods=[\"POST\"])\n",
    "    def get_user_data():\n",
    "        return\n",
    "    \n",
    "\n",
    "    @app.route(\"/v1/regist_user_data\", methods=[\"POST\"])\n",
    "    def refist_user_data():\n",
    "        \"\"\"\n",
    "        Summary:\n",
    "            新規ユーザの登録.\n",
    "        Args:\n",
    "            display_name: ユーザ名\n",
    "            mail_address: メールアドレス\n",
    "            pass_word: パスワード\n",
    "        \"\"\"\n",
    "        # Userテーブル呼び出し\n",
    "        user_list = UserList()\n",
    "        # 既存である場合　登録済みエラー\n",
    "        # Userトークン作成\n",
    "        # 登録\n",
    "        return\n",
    "\n",
    "    @app.route(\"/v1/delete_user_data\", methods=[\"POST\"])\n",
    "    def delete_user_data():\n",
    "        return\n",
    "\n",
    "    def make_artist_data():\n",
    "        return\n",
    "\n",
    "    def find_similar_user():\n",
    "        return\n",
    "    \n",
    "    return app"
   ]
  }
 ],
 "metadata": {
  "kernelspec": {
   "display_name": "club_activity_app",
   "language": "python",
   "name": "python3"
  },
  "language_info": {
   "codemirror_mode": {
    "name": "ipython",
    "version": 3
   },
   "file_extension": ".py",
   "mimetype": "text/x-python",
   "name": "python",
   "nbconvert_exporter": "python",
   "pygments_lexer": "ipython3",
   "version": "3.11.5"
  }
 },
 "nbformat": 4,
 "nbformat_minor": 2
}
