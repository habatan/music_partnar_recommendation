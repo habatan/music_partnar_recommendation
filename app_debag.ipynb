{
 "cells": [
  {
   "cell_type": "markdown",
   "metadata": {},
   "source": [
    "## アプリケーション デバッグ"
   ]
  },
  {
   "cell_type": "code",
   "execution_count": 1,
   "metadata": {},
   "outputs": [],
   "source": [
    "# モジュール\n",
    "from main import create_app\n",
    "from models import *\n"
   ]
  },
  {
   "cell_type": "code",
   "execution_count": 2,
   "metadata": {},
   "outputs": [],
   "source": [
    "# create_app() SQLAlchemy定義済み\n",
    "app = create_app()\n",
    "# app.config[\"SQLALCHEMY_DATABASE_URI\"] = \"sqlite:///..\\\\..\\\\data\\\\user_database.db\"\n"
   ]
  },
  {
   "cell_type": "markdown",
   "metadata": {},
   "source": [
    "### SQLAlchemy動作確認\n",
    "- https://flask-sqlalchemy.palletsprojects.com/en/3.1.x/queries/\n",
    "- https://flask-sqlalchemy.palletsprojects.com/en/3.1.x/legacy-query/"
   ]
  },
  {
   "cell_type": "code",
   "execution_count": 3,
   "metadata": {},
   "outputs": [],
   "source": [
    "# db start db = SQLAlchemy()はmodule内で定義されているので重複を避ける\n",
    "# db.init_app(app)\n",
    "# app.app_context().push()"
   ]
  },
  {
   "cell_type": "code",
   "execution_count": 4,
   "metadata": {},
   "outputs": [],
   "source": [
    "# db作成\n",
    "# db.create_all()"
   ]
  },
  {
   "cell_type": "code",
   "execution_count": 5,
   "metadata": {},
   "outputs": [
    {
     "name": "stdout",
     "output_type": "stream",
     "text": [
      "2024-03-03 00:25:44,013 INFO sqlalchemy.engine.Engine BEGIN (implicit)\n",
      "2024-03-03 00:25:44,018 INFO sqlalchemy.engine.Engine SELECT users.user_token AS users_user_token, users.user_name AS users_user_name, users.pass_word AS users_pass_word, users.done AS users_done \n",
      "FROM users\n",
      "2024-03-03 00:25:44,020 INFO sqlalchemy.engine.Engine [generated in 0.00242s] ()\n",
      "[<User #thisistoken>, <User #wowow>, <User #goose>, <User #letseat>, <User #good>]\n",
      "username user\n",
      "amazingman amazing\n",
      "god god\n",
      "chika eat\n",
      "goodman goodgood\n"
     ]
    }
   ],
   "source": [
    "# create_appでインスタンス化された際 user_listが作成済み\n",
    "user_list = UserList()\n",
    "all_user = user_list._get_all()\n",
    "print(all_user)\n",
    "for user in all_user:\n",
    "    print(user.user_name, user.pass_word)\n"
   ]
  },
  {
   "cell_type": "code",
   "execution_count": 28,
   "metadata": {},
   "outputs": [
    {
     "name": "stdout",
     "output_type": "stream",
     "text": [
      "2024-03-02 20:55:36,275 INFO sqlalchemy.engine.Engine BEGIN (implicit)\n",
      "2024-03-02 20:55:36,277 INFO sqlalchemy.engine.Engine INSERT INTO users (user_token, user_name, pass_word, done) VALUES (?, ?, ?, ?)\n",
      "2024-03-02 20:55:36,278 INFO sqlalchemy.engine.Engine [cached since 24.69s ago] ('#letseat', 'chika', 'eat', 0)\n",
      "2024-03-02 20:55:36,281 INFO sqlalchemy.engine.Engine COMMIT\n"
     ]
    }
   ],
   "source": [
    "# add\n",
    "user_list.add_user(user_token=\"#letseat\", display_name=\"chika\", pass_word=\"eat\") \n",
    "# assert db.session.query(User).filter_by(user_token=\"#thisistoken\").first(), \"Userオブジェクトが作成されていません\"\n"
   ]
  },
  {
   "cell_type": "code",
   "execution_count": 27,
   "metadata": {},
   "outputs": [],
   "source": [
    "# errorが出た際にセッション\n",
    "db.session.rollback()\n",
    "user_list.varified = True\n",
    "db.session.commit()"
   ]
  },
  {
   "cell_type": "code",
   "execution_count": 29,
   "metadata": {},
   "outputs": [
    {
     "name": "stdout",
     "output_type": "stream",
     "text": [
      "2024-03-02 20:55:48,211 INFO sqlalchemy.engine.Engine BEGIN (implicit)\n",
      "2024-03-02 20:55:48,214 INFO sqlalchemy.engine.Engine SELECT users.user_token AS users_user_token, users.user_name AS users_user_name, users.pass_word AS users_pass_word, users.done AS users_done \n",
      "FROM users \n",
      "WHERE users.user_token = ?\n",
      " LIMIT ? OFFSET ?\n",
      "2024-03-02 20:55:48,215 INFO sqlalchemy.engine.Engine [generated in 0.00127s] ('#letseat', 1, 0)\n",
      "\n",
      "\n",
      "user_name: chika\n",
      "user_pass: eat\n",
      "user_token: #letseat\n"
     ]
    }
   ],
   "source": [
    "# check UserList\n",
    "user = user_list.get_user_info(\"#letseat\")\n",
    "\n",
    "# 要素の取得\n",
    "# name \n",
    "user_name = user.user_name\n",
    "# password\n",
    "user_pass = user.pass_word\n",
    "# token\n",
    "user_token = user.user_token\n",
    "\n",
    "print(\"\\n\")\n",
    "print(f\"user_name: {user_name}\")\n",
    "print(f\"user_pass: {user_pass}\")\n",
    "print(f\"user_token: {user_token}\")\n"
   ]
  },
  {
   "cell_type": "code",
   "execution_count": 44,
   "metadata": {},
   "outputs": [
    {
     "name": "stdout",
     "output_type": "stream",
     "text": [
      "2024-03-02 21:03:15,970 INFO sqlalchemy.engine.Engine SELECT users.user_token AS users_user_token, users.user_name AS users_user_name, users.pass_word AS users_pass_word, users.done AS users_done \n",
      "FROM users \n",
      "WHERE users.user_name = ?\n",
      " LIMIT ? OFFSET ?\n",
      "2024-03-02 21:03:15,971 INFO sqlalchemy.engine.Engine [cached since 342.3s ago] ('amazingman', 1, 0)\n",
      "<User #wowow>\n"
     ]
    }
   ],
   "source": [
    "# 404エラー受け取り\n",
    "try:\n",
    "    # 例外発生受け取り\n",
    "    c = User.query.filter_by(user_name=\"amazingman\").first_or_404()\n",
    "    print(c)\n",
    "except BaseException as e:\n",
    "    print(\"This is 404 Error\", e)\n"
   ]
  },
  {
   "cell_type": "code",
   "execution_count": 47,
   "metadata": {},
   "outputs": [
    {
     "name": "stdout",
     "output_type": "stream",
     "text": [
      "2024-03-02 21:05:48,335 INFO sqlalchemy.engine.Engine SELECT users.user_token AS users_user_token, users.user_name AS users_user_name, users.pass_word AS users_pass_word, users.done AS users_done \n",
      "FROM users \n",
      "WHERE users.user_name = ?\n",
      " LIMIT ? OFFSET ?\n",
      "2024-03-02 21:05:48,337 INFO sqlalchemy.engine.Engine [cached since 494.6s ago] ('foke', 1, 0)\n",
      "None\n"
     ]
    }
   ],
   "source": [
    "# db確認\n",
    "c = User.query.filter_by(user_name=\"foke\").first()\n",
    "print(c)\n"
   ]
  },
  {
   "cell_type": "code",
   "execution_count": 52,
   "metadata": {},
   "outputs": [],
   "source": [
    "# db終了\n",
    "db.session.commit()\n",
    "db.session.close()\n"
   ]
  },
  {
   "cell_type": "markdown",
   "metadata": {},
   "source": [
    "### アプリケーション動作\n",
    "↓ターミナル↓\n",
    "```powershell\n",
    "$python run_server\n",
    "```\n"
   ]
  },
  {
   "cell_type": "code",
   "execution_count": 38,
   "metadata": {},
   "outputs": [],
   "source": [
    "import requests\n",
    "import json\n",
    "\n",
    "# /v1/regist_user_data 動作確認\n",
    "data = json.dumps({\n",
    "    \"display_name\":\"goodman\",\n",
    "    \"pass_word\":\"goodgood\"    \n",
    "})\n",
    "\n",
    "content = requests.post(\n",
    "    \"http://127.0.0.1:8888/v1/regist_user_data\", \n",
    "    data=data, \n",
    "    headers={'Content-Type': 'application/json'}\n",
    ")\n"
   ]
  },
  {
   "cell_type": "code",
   "execution_count": 39,
   "metadata": {},
   "outputs": [
    {
     "name": "stdout",
     "output_type": "stream",
     "text": [
      "{'user_id': None}\n"
     ]
    }
   ],
   "source": [
    "print(content.json())"
   ]
  },
  {
   "cell_type": "code",
   "execution_count": null,
   "metadata": {},
   "outputs": [],
   "source": []
  }
 ],
 "metadata": {
  "kernelspec": {
   "display_name": "club_activity_app",
   "language": "python",
   "name": "python3"
  },
  "language_info": {
   "codemirror_mode": {
    "name": "ipython",
    "version": 3
   },
   "file_extension": ".py",
   "mimetype": "text/x-python",
   "name": "python",
   "nbconvert_exporter": "python",
   "pygments_lexer": "ipython3",
   "version": "3.11.5"
  }
 },
 "nbformat": 4,
 "nbformat_minor": 2
}
