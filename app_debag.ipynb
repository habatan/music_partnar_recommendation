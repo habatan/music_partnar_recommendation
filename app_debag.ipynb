{
 "cells": [
  {
   "cell_type": "markdown",
   "metadata": {},
   "source": [
    "## アプリケーション動作確認"
   ]
  },
  {
   "cell_type": "code",
   "execution_count": 22,
   "metadata": {},
   "outputs": [],
   "source": [
    "# モジュール\n",
    "from modules.models.models import *\n",
    "from modules import spotify_tools as st\n",
    "from app import create_app\n"
   ]
  },
  {
   "cell_type": "code",
   "execution_count": 23,
   "metadata": {},
   "outputs": [],
   "source": [
    "# app定義\n",
    "app = create_app()\n",
    "app.config[\"SQLALCHEMY_DATABASE_URI\"] = \"sqlite:///..\\\\..\\\\data\\\\user_database.db\"\n"
   ]
  },
  {
   "cell_type": "markdown",
   "metadata": {},
   "source": [
    "### SQLAlcemy動作確認\n",
    "- https://flask-sqlalchemy.palletsprojects.com/en/3.1.x/queries/\n",
    "- https://flask-sqlalchemy.palletsprojects.com/en/3.1.x/legacy-query/"
   ]
  },
  {
   "cell_type": "code",
   "execution_count": 24,
   "metadata": {},
   "outputs": [],
   "source": [
    "# db start db = SQLAlchemy()はmodule内で定義されているので重複を避ける\n",
    "db.init_app(app)\n",
    "app.app_context().push()"
   ]
  },
  {
   "cell_type": "code",
   "execution_count": 25,
   "metadata": {},
   "outputs": [
    {
     "name": "stdout",
     "output_type": "stream",
     "text": [
      "2024-03-02 20:55:10,211 INFO sqlalchemy.engine.Engine BEGIN (implicit)\n",
      "2024-03-02 20:55:10,214 INFO sqlalchemy.engine.Engine PRAGMA main.table_info(\"users\")\n",
      "2024-03-02 20:55:10,215 INFO sqlalchemy.engine.Engine [raw sql] ()\n",
      "2024-03-02 20:55:10,218 INFO sqlalchemy.engine.Engine PRAGMA main.table_info(\"fav_artists\")\n",
      "2024-03-02 20:55:10,219 INFO sqlalchemy.engine.Engine [raw sql] ()\n",
      "2024-03-02 20:55:10,224 INFO sqlalchemy.engine.Engine PRAGMA main.table_info(\"sim_users\")\n",
      "2024-03-02 20:55:10,225 INFO sqlalchemy.engine.Engine [raw sql] ()\n",
      "2024-03-02 20:55:10,229 INFO sqlalchemy.engine.Engine COMMIT\n"
     ]
    }
   ],
   "source": [
    "# db作成\n",
    "db.create_all()"
   ]
  },
  {
   "cell_type": "code",
   "execution_count": 28,
   "metadata": {},
   "outputs": [
    {
     "name": "stdout",
     "output_type": "stream",
     "text": [
      "2024-03-02 20:55:36,275 INFO sqlalchemy.engine.Engine BEGIN (implicit)\n",
      "2024-03-02 20:55:36,277 INFO sqlalchemy.engine.Engine INSERT INTO users (user_token, user_name, pass_word, done) VALUES (?, ?, ?, ?)\n",
      "2024-03-02 20:55:36,278 INFO sqlalchemy.engine.Engine [cached since 24.69s ago] ('#letseat', 'chika', 'eat', 0)\n",
      "2024-03-02 20:55:36,281 INFO sqlalchemy.engine.Engine COMMIT\n"
     ]
    }
   ],
   "source": [
    "# user_listの作成\n",
    "user_list = UserList()\n",
    "# add\n",
    "user_list.add_user(user_token=\"#letseat\", display_name=\"chika\", pass_word=\"eat\") \n",
    "# assert db.session.query(User).filter_by(user_token=\"#thisistoken\").first(), \"Userオブジェクトが作成されていません\"\n"
   ]
  },
  {
   "cell_type": "code",
   "execution_count": 27,
   "metadata": {},
   "outputs": [],
   "source": [
    "# errorが出た際にセッション\n",
    "db.session.rollback()\n",
    "user_list.varified = True\n",
    "db.session.commit()"
   ]
  },
  {
   "cell_type": "code",
   "execution_count": 29,
   "metadata": {},
   "outputs": [
    {
     "name": "stdout",
     "output_type": "stream",
     "text": [
      "2024-03-02 20:55:48,211 INFO sqlalchemy.engine.Engine BEGIN (implicit)\n",
      "2024-03-02 20:55:48,214 INFO sqlalchemy.engine.Engine SELECT users.user_token AS users_user_token, users.user_name AS users_user_name, users.pass_word AS users_pass_word, users.done AS users_done \n",
      "FROM users \n",
      "WHERE users.user_token = ?\n",
      " LIMIT ? OFFSET ?\n",
      "2024-03-02 20:55:48,215 INFO sqlalchemy.engine.Engine [generated in 0.00127s] ('#letseat', 1, 0)\n",
      "\n",
      "\n",
      "user_name: chika\n",
      "user_pass: eat\n",
      "user_token: #letseat\n"
     ]
    }
   ],
   "source": [
    "# check UserList\n",
    "user = user_list.get_user_info(\"#letseat\")\n",
    "\n",
    "# 要素の取得\n",
    "# name \n",
    "user_name = user.user_name\n",
    "# password\n",
    "user_pass = user.pass_word\n",
    "# token\n",
    "user_token = user.user_token\n",
    "\n",
    "print(\"\\n\")\n",
    "print(f\"user_name: {user_name}\")\n",
    "print(f\"user_pass: {user_pass}\")\n",
    "print(f\"user_token: {user_token}\")\n"
   ]
  },
  {
   "cell_type": "code",
   "execution_count": 44,
   "metadata": {},
   "outputs": [
    {
     "name": "stdout",
     "output_type": "stream",
     "text": [
      "2024-03-02 21:03:15,970 INFO sqlalchemy.engine.Engine SELECT users.user_token AS users_user_token, users.user_name AS users_user_name, users.pass_word AS users_pass_word, users.done AS users_done \n",
      "FROM users \n",
      "WHERE users.user_name = ?\n",
      " LIMIT ? OFFSET ?\n",
      "2024-03-02 21:03:15,971 INFO sqlalchemy.engine.Engine [cached since 342.3s ago] ('amazingman', 1, 0)\n",
      "<User #wowow>\n"
     ]
    }
   ],
   "source": [
    "# 404エラー受け取り\n",
    "try:\n",
    "    # 例外発生受け取り\n",
    "    c = User.query.filter_by(user_name=\"amazingman\").first_or_404()\n",
    "    print(c)\n",
    "except BaseException as e:\n",
    "    print(\"で、でた～\", e)\n"
   ]
  },
  {
   "cell_type": "code",
   "execution_count": 47,
   "metadata": {},
   "outputs": [
    {
     "name": "stdout",
     "output_type": "stream",
     "text": [
      "2024-03-02 21:05:48,335 INFO sqlalchemy.engine.Engine SELECT users.user_token AS users_user_token, users.user_name AS users_user_name, users.pass_word AS users_pass_word, users.done AS users_done \n",
      "FROM users \n",
      "WHERE users.user_name = ?\n",
      " LIMIT ? OFFSET ?\n",
      "2024-03-02 21:05:48,337 INFO sqlalchemy.engine.Engine [cached since 494.6s ago] ('foke', 1, 0)\n",
      "None\n"
     ]
    }
   ],
   "source": [
    "# 存在可否\n",
    "c = User.query.filter_by(user_name=\"foke\").first()\n",
    "print(c)"
   ]
  },
  {
   "cell_type": "code",
   "execution_count": 52,
   "metadata": {},
   "outputs": [],
   "source": [
    "# db終了\n",
    "db.session.commit()\n",
    "db.session.close()\n",
    "\n"
   ]
  },
  {
   "cell_type": "markdown",
   "metadata": {},
   "source": [
    "### アプリケーション動作"
   ]
  },
  {
   "cell_type": "code",
   "execution_count": 1,
   "metadata": {},
   "outputs": [],
   "source": [
    "from flask import Flask, request, jsonify\n",
    "from modules.models.models import *\n"
   ]
  },
  {
   "cell_type": "code",
   "execution_count": 5,
   "metadata": {},
   "outputs": [
    {
     "name": "stdout",
     "output_type": "stream",
     "text": [
      "2024-03-02 21:24:26,078 INFO sqlalchemy.engine.Engine BEGIN (implicit)\n",
      "2024-03-02 21:24:26,079 INFO sqlalchemy.engine.Engine PRAGMA main.table_info(\"users\")\n",
      "2024-03-02 21:24:26,080 INFO sqlalchemy.engine.Engine [raw sql] ()\n",
      "2024-03-02 21:24:26,082 INFO sqlalchemy.engine.Engine PRAGMA main.table_info(\"fav_artists\")\n",
      "2024-03-02 21:24:26,084 INFO sqlalchemy.engine.Engine [raw sql] ()\n",
      "2024-03-02 21:24:26,088 INFO sqlalchemy.engine.Engine PRAGMA main.table_info(\"sim_users\")\n",
      "2024-03-02 21:24:26,088 INFO sqlalchemy.engine.Engine [raw sql] ()\n",
      "2024-03-02 21:24:26,088 INFO sqlalchemy.engine.Engine COMMIT\n",
      " * Serving Flask app '__main__'\n",
      " * Debug mode: on\n"
     ]
    },
    {
     "name": "stderr",
     "output_type": "stream",
     "text": [
      "WARNING: This is a development server. Do not use it in a production deployment. Use a production WSGI server instead.\n",
      " * Running on http://127.0.0.1:8888\n",
      "Press CTRL+C to quit\n",
      " * Restarting with stat\n"
     ]
    },
    {
     "ename": "SystemExit",
     "evalue": "1",
     "output_type": "error",
     "traceback": [
      "An exception has occurred, use %tb to see the full traceback.\n",
      "\u001b[1;31mSystemExit\u001b[0m\u001b[1;31m:\u001b[0m 1\n"
     ]
    },
    {
     "name": "stderr",
     "output_type": "stream",
     "text": [
      "c:\\Users\\ryotaro\\Documents\\03_個人_趣味\\MyGithub\\club_activity_app\\Lib\\site-packages\\IPython\\core\\interactiveshell.py:3585: UserWarning: To exit: use 'exit', 'quit', or Ctrl-D.\n",
      "  warn(\"To exit: use 'exit', 'quit', or Ctrl-D.\", stacklevel=1)\n"
     ]
    }
   ],
   "source": [
    "# app setting\n",
    "def create_app(config=\"base\"):\n",
    "    # instance_relative_config : 相対的なconfigファイルを指定\n",
    "    app = Flask(__name__, instance_relative_config=True)\n",
    "    app.config.from_mapping(\n",
    "        SECRET_KEY=\"test_secret\"\n",
    "    )\n",
    "\n",
    "    # configファイル : https://qiita.com/nanakenashi/items/e272ff1aafb3889230bc\n",
    "    if config == \"test\":\n",
    "        app.config.from_object(\"config.TestingConfig\")\n",
    "    elif config == \"development\":\n",
    "        app.config.from_object(\"config.DevelopmentConfig\")\n",
    "    elif config == \"base\":\n",
    "        app.config.from_object(\"config.BaseConfig\")\n",
    "    \n",
    "    # SQLAlchemy\n",
    "    db.init_app(app)\n",
    "    app.app_context().push()\n",
    "    db.create_all()\n",
    "    user_list = UserList()\n",
    "\n",
    "    @app.route(\"/v1/get_user_data\", methods=[\"POST\"])\n",
    "    def get_user_data():\n",
    "        return\n",
    "    \n",
    "    @app.route(\"/v1/regist_user_data\", methods=[\"POST\"])\n",
    "    def regist_user_data():\n",
    "        \"\"\"\n",
    "        Summary:\n",
    "            新規ユーザの登録.\n",
    "        Args:\n",
    "            display_name: ユーザ名\n",
    "            pass_word: パスワード\n",
    "        \"\"\"\n",
    "        # リクエスト受け取り\n",
    "        # JSONを受け取る\n",
    "        json = request.get_json()\n",
    "        display_name = json[\"display_name\"]\n",
    "        pass_word = json[\"pass_word\"]\n",
    "        \n",
    "        # 既存である場合　登録済みエラー\n",
    "        is_known = User.query.filter_by(user_name=display_name).one_or_404()\n",
    "        if is_known != None:\n",
    "            return jsonify({\"user_id\": None})\n",
    "        \n",
    "        pass_word = pass_word\n",
    "        user_id = \"#good\"\n",
    "\n",
    "        # 登録\n",
    "        user_list.add_user(\n",
    "            user_token=user_id,\n",
    "            display_name=display_name,\n",
    "            pass_word=pass_word\n",
    "        )\n",
    "\n",
    "        return jsonify({\"user_id\": user_id})\n",
    "\n",
    "    @app.route(\"/v1/delete_user_data\", methods=[\"POST\"])\n",
    "    def delete_user_data():\n",
    "        return\n",
    "\n",
    "    def make_artist_data():\n",
    "        return\n",
    "\n",
    "    def find_similar_user():\n",
    "        return\n",
    "    \n",
    "    return app\n",
    "\n"
   ]
  },
  {
   "cell_type": "code",
   "execution_count": 3,
   "metadata": {},
   "outputs": [
    {
     "name": "stdout",
     "output_type": "stream",
     "text": [
      "2024-03-02 21:21:54,380 INFO sqlalchemy.engine.Engine BEGIN (implicit)\n",
      "2024-03-02 21:21:54,382 INFO sqlalchemy.engine.Engine PRAGMA main.table_info(\"users\")\n",
      "2024-03-02 21:21:54,384 INFO sqlalchemy.engine.Engine [raw sql] ()\n",
      "2024-03-02 21:21:54,386 INFO sqlalchemy.engine.Engine PRAGMA main.table_info(\"fav_artists\")\n",
      "2024-03-02 21:21:54,386 INFO sqlalchemy.engine.Engine [raw sql] ()\n",
      "2024-03-02 21:21:54,386 INFO sqlalchemy.engine.Engine PRAGMA main.table_info(\"sim_users\")\n",
      "2024-03-02 21:21:54,386 INFO sqlalchemy.engine.Engine [raw sql] ()\n",
      "2024-03-02 21:21:54,401 INFO sqlalchemy.engine.Engine COMMIT\n",
      " * Serving Flask app '__main__'\n",
      " * Debug mode: on\n"
     ]
    },
    {
     "name": "stderr",
     "output_type": "stream",
     "text": [
      "WARNING: This is a development server. Do not use it in a production deployment. Use a production WSGI server instead.\n",
      " * Running on http://127.0.0.1:8888\n",
      "Press CTRL+C to quit\n"
     ]
    },
    {
     "name": "stderr",
     "output_type": "stream",
     "text": [
      " * Restarting with stat\n"
     ]
    },
    {
     "ename": "SystemExit",
     "evalue": "1",
     "output_type": "error",
     "traceback": [
      "An exception has occurred, use %tb to see the full traceback.\n",
      "\u001b[1;31mSystemExit\u001b[0m\u001b[1;31m:\u001b[0m 1\n"
     ]
    },
    {
     "name": "stderr",
     "output_type": "stream",
     "text": [
      "c:\\Users\\ryotaro\\Documents\\03_個人_趣味\\MyGithub\\club_activity_app\\Lib\\site-packages\\IPython\\core\\interactiveshell.py:3585: UserWarning: To exit: use 'exit', 'quit', or Ctrl-D.\n",
      "  warn(\"To exit: use 'exit', 'quit', or Ctrl-D.\", stacklevel=1)\n"
     ]
    }
   ],
   "source": [
    "# テスト\n",
    "app = create_app(config=\"development\")\n",
    "app.run(port=8888)\n"
   ]
  },
  {
   "cell_type": "code",
   "execution_count": 18,
   "metadata": {},
   "outputs": [],
   "source": [
    "import requests\n",
    "import json\n",
    "data = {\n",
    "    \"display_name\":\"goodman\",\n",
    "    \"pass_word\":\"goodgood\"    \n",
    "}\n",
    "\n",
    "content = requests.post(\"http://127.0.0.1:8888/v1/regist_user_data\", data=data)\n",
    "\n"
   ]
  },
  {
   "cell_type": "code",
   "execution_count": 11,
   "metadata": {},
   "outputs": [
    {
     "name": "stdout",
     "output_type": "stream",
     "text": [
      "<Response [415]>\n"
     ]
    }
   ],
   "source": [
    "print(content)"
   ]
  },
  {
   "cell_type": "code",
   "execution_count": null,
   "metadata": {},
   "outputs": [],
   "source": []
  }
 ],
 "metadata": {
  "kernelspec": {
   "display_name": "club_activity_app",
   "language": "python",
   "name": "python3"
  },
  "language_info": {
   "codemirror_mode": {
    "name": "ipython",
    "version": 3
   },
   "file_extension": ".py",
   "mimetype": "text/x-python",
   "name": "python",
   "nbconvert_exporter": "python",
   "pygments_lexer": "ipython3",
   "version": "3.11.5"
  }
 },
 "nbformat": 4,
 "nbformat_minor": 2
}
