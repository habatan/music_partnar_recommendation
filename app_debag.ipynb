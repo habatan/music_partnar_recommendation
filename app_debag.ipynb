{
 "cells": [
  {
   "cell_type": "markdown",
   "metadata": {},
   "source": [
    "## アプリケーション デバッグ"
   ]
  },
  {
   "cell_type": "code",
   "execution_count": 15,
   "metadata": {},
   "outputs": [],
   "source": [
    "# モジュール\n",
    "from main import create_app\n",
    "from models import *\n"
   ]
  },
  {
   "cell_type": "code",
   "execution_count": 16,
   "metadata": {},
   "outputs": [],
   "source": [
    "# create_app() SQLAlchemy定義済み\n",
    "app = create_app()\n",
    "# app.config[\"SQLALCHEMY_DATABASE_URI\"] = \"sqlite:///..\\\\..\\\\data\\\\user_database.db\"\n"
   ]
  },
  {
   "cell_type": "markdown",
   "metadata": {},
   "source": [
    "### SQLAlcemy動作確認\n",
    "- https://flask-sqlalchemy.palletsprojects.com/en/3.1.x/queries/\n",
    "- https://flask-sqlalchemy.palletsprojects.com/en/3.1.x/legacy-query/"
   ]
  },
  {
   "cell_type": "code",
   "execution_count": 17,
   "metadata": {},
   "outputs": [],
   "source": [
    "# db start db = SQLAlchemy()はmodule内で定義されているので重複を避ける\n",
    "# db.init_app(app)\n",
    "# app.app_context().push()"
   ]
  },
  {
   "cell_type": "code",
   "execution_count": 43,
   "metadata": {},
   "outputs": [],
   "source": [
    "# db作成\n",
    "# db.create_all()"
   ]
  },
  {
   "cell_type": "code",
   "execution_count": 18,
   "metadata": {},
   "outputs": [
    {
     "ename": "RuntimeError",
     "evalue": "Working outside of application context.\n\nThis typically means that you attempted to use functionality that needed\nthe current application. To solve this, set up an application context\nwith app.app_context(). See the documentation for more information.",
     "output_type": "error",
     "traceback": [
      "\u001b[1;31m---------------------------------------------------------------------------\u001b[0m",
      "\u001b[1;31mRuntimeError\u001b[0m                              Traceback (most recent call last)",
      "Cell \u001b[1;32mIn[18], line 3\u001b[0m\n\u001b[0;32m      1\u001b[0m \u001b[38;5;66;03m# create_appでインスタンス化された際 user_listが作成済み\u001b[39;00m\n\u001b[0;32m      2\u001b[0m \u001b[38;5;66;03m# user_list = UserList()\u001b[39;00m\n\u001b[1;32m----> 3\u001b[0m all_user \u001b[38;5;241m=\u001b[39m \u001b[43muser_list\u001b[49m\u001b[38;5;241;43m.\u001b[39;49m\u001b[43m_get_all\u001b[49m\u001b[43m(\u001b[49m\u001b[43m)\u001b[49m\n\u001b[0;32m      4\u001b[0m \u001b[38;5;28mprint\u001b[39m(all_user)\n\u001b[0;32m      5\u001b[0m \u001b[38;5;28;01mfor\u001b[39;00m user \u001b[38;5;129;01min\u001b[39;00m all_user:\n",
      "File \u001b[1;32mc:\\Users\\ryotaro\\Documents\\03_個人_趣味\\MyGithub\\club_activity_app\\models.py:63\u001b[0m, in \u001b[0;36mUserList._get_all\u001b[1;34m(self)\u001b[0m\n\u001b[0;32m     62\u001b[0m \u001b[38;5;28;01mdef\u001b[39;00m \u001b[38;5;21m_get_all\u001b[39m(\u001b[38;5;28mself\u001b[39m):\n\u001b[1;32m---> 63\u001b[0m     users \u001b[38;5;241m=\u001b[39m \u001b[43mUser\u001b[49m\u001b[38;5;241;43m.\u001b[39;49m\u001b[43mquery\u001b[49m\u001b[38;5;241m.\u001b[39mall()\n\u001b[0;32m     64\u001b[0m     \u001b[38;5;28;01mreturn\u001b[39;00m users\n",
      "File \u001b[1;32mc:\\Users\\ryotaro\\Documents\\03_個人_趣味\\MyGithub\\club_activity_app\\Lib\\site-packages\\flask_sqlalchemy\\model.py:23\u001b[0m, in \u001b[0;36m_QueryProperty.__get__\u001b[1;34m(self, obj, cls)\u001b[0m\n\u001b[0;32m     21\u001b[0m \u001b[38;5;28;01mdef\u001b[39;00m \u001b[38;5;21m__get__\u001b[39m(\u001b[38;5;28mself\u001b[39m, obj: Model \u001b[38;5;241m|\u001b[39m \u001b[38;5;28;01mNone\u001b[39;00m, \u001b[38;5;28mcls\u001b[39m: \u001b[38;5;28mtype\u001b[39m[Model]) \u001b[38;5;241m-\u001b[39m\u001b[38;5;241m>\u001b[39m Query:\n\u001b[0;32m     22\u001b[0m     \u001b[38;5;28;01mreturn\u001b[39;00m \u001b[38;5;28mcls\u001b[39m\u001b[38;5;241m.\u001b[39mquery_class(\n\u001b[1;32m---> 23\u001b[0m         \u001b[38;5;28mcls\u001b[39m, session\u001b[38;5;241m=\u001b[39m\u001b[38;5;28;43mcls\u001b[39;49m\u001b[38;5;241;43m.\u001b[39;49m\u001b[43m__fsa__\u001b[49m\u001b[38;5;241;43m.\u001b[39;49m\u001b[43msession\u001b[49m\u001b[43m(\u001b[49m\u001b[43m)\u001b[49m  \u001b[38;5;66;03m# type: ignore[arg-type]\u001b[39;00m\n\u001b[0;32m     24\u001b[0m     )\n",
      "File \u001b[1;32mc:\\Users\\ryotaro\\Documents\\03_個人_趣味\\MyGithub\\club_activity_app\\Lib\\site-packages\\sqlalchemy\\orm\\scoping.py:220\u001b[0m, in \u001b[0;36mscoped_session.__call__\u001b[1;34m(self, **kw)\u001b[0m\n\u001b[0;32m    218\u001b[0m         \u001b[38;5;28mself\u001b[39m\u001b[38;5;241m.\u001b[39mregistry\u001b[38;5;241m.\u001b[39mset(sess)\n\u001b[0;32m    219\u001b[0m \u001b[38;5;28;01melse\u001b[39;00m:\n\u001b[1;32m--> 220\u001b[0m     sess \u001b[38;5;241m=\u001b[39m \u001b[38;5;28;43mself\u001b[39;49m\u001b[38;5;241;43m.\u001b[39;49m\u001b[43mregistry\u001b[49m\u001b[43m(\u001b[49m\u001b[43m)\u001b[49m\n\u001b[0;32m    221\u001b[0m \u001b[38;5;28;01mif\u001b[39;00m \u001b[38;5;129;01mnot\u001b[39;00m \u001b[38;5;28mself\u001b[39m\u001b[38;5;241m.\u001b[39m_support_async \u001b[38;5;129;01mand\u001b[39;00m sess\u001b[38;5;241m.\u001b[39m_is_asyncio:\n\u001b[0;32m    222\u001b[0m     warn_deprecated(\n\u001b[0;32m    223\u001b[0m         \u001b[38;5;124m\"\u001b[39m\u001b[38;5;124mUsing `scoped_session` with asyncio is deprecated and \u001b[39m\u001b[38;5;124m\"\u001b[39m\n\u001b[0;32m    224\u001b[0m         \u001b[38;5;124m\"\u001b[39m\u001b[38;5;124mwill raise an error in a future version. \u001b[39m\u001b[38;5;124m\"\u001b[39m\n\u001b[0;32m    225\u001b[0m         \u001b[38;5;124m\"\u001b[39m\u001b[38;5;124mPlease use `async_scoped_session` instead.\u001b[39m\u001b[38;5;124m\"\u001b[39m,\n\u001b[0;32m    226\u001b[0m         \u001b[38;5;124m\"\u001b[39m\u001b[38;5;124m1.4.23\u001b[39m\u001b[38;5;124m\"\u001b[39m,\n\u001b[0;32m    227\u001b[0m     )\n",
      "File \u001b[1;32mc:\\Users\\ryotaro\\Documents\\03_個人_趣味\\MyGithub\\club_activity_app\\Lib\\site-packages\\sqlalchemy\\util\\_collections.py:632\u001b[0m, in \u001b[0;36mScopedRegistry.__call__\u001b[1;34m(self)\u001b[0m\n\u001b[0;32m    631\u001b[0m \u001b[38;5;28;01mdef\u001b[39;00m \u001b[38;5;21m__call__\u001b[39m(\u001b[38;5;28mself\u001b[39m) \u001b[38;5;241m-\u001b[39m\u001b[38;5;241m>\u001b[39m _T:\n\u001b[1;32m--> 632\u001b[0m     key \u001b[38;5;241m=\u001b[39m \u001b[38;5;28;43mself\u001b[39;49m\u001b[38;5;241;43m.\u001b[39;49m\u001b[43mscopefunc\u001b[49m\u001b[43m(\u001b[49m\u001b[43m)\u001b[49m\n\u001b[0;32m    633\u001b[0m     \u001b[38;5;28;01mtry\u001b[39;00m:\n\u001b[0;32m    634\u001b[0m         \u001b[38;5;28;01mreturn\u001b[39;00m \u001b[38;5;28mself\u001b[39m\u001b[38;5;241m.\u001b[39mregistry[key]  \u001b[38;5;66;03m# type: ignore[no-any-return]\u001b[39;00m\n",
      "File \u001b[1;32mc:\\Users\\ryotaro\\Documents\\03_個人_趣味\\MyGithub\\club_activity_app\\Lib\\site-packages\\flask_sqlalchemy\\session.py:111\u001b[0m, in \u001b[0;36m_app_ctx_id\u001b[1;34m()\u001b[0m\n\u001b[0;32m    109\u001b[0m \u001b[38;5;28;01mdef\u001b[39;00m \u001b[38;5;21m_app_ctx_id\u001b[39m() \u001b[38;5;241m-\u001b[39m\u001b[38;5;241m>\u001b[39m \u001b[38;5;28mint\u001b[39m:\n\u001b[0;32m    110\u001b[0m \u001b[38;5;250m    \u001b[39m\u001b[38;5;124;03m\"\"\"Get the id of the current Flask application context for the session scope.\"\"\"\u001b[39;00m\n\u001b[1;32m--> 111\u001b[0m     \u001b[38;5;28;01mreturn\u001b[39;00m \u001b[38;5;28mid\u001b[39m(\u001b[43mapp_ctx\u001b[49m\u001b[38;5;241;43m.\u001b[39;49m\u001b[43m_get_current_object\u001b[49m\u001b[43m(\u001b[49m\u001b[43m)\u001b[49m)\n",
      "File \u001b[1;32mc:\\Users\\ryotaro\\Documents\\03_個人_趣味\\MyGithub\\club_activity_app\\Lib\\site-packages\\werkzeug\\local.py:508\u001b[0m, in \u001b[0;36mLocalProxy.__init__.<locals>._get_current_object\u001b[1;34m()\u001b[0m\n\u001b[0;32m    506\u001b[0m     obj \u001b[38;5;241m=\u001b[39m local\u001b[38;5;241m.\u001b[39mget()\n\u001b[0;32m    507\u001b[0m \u001b[38;5;28;01mexcept\u001b[39;00m \u001b[38;5;167;01mLookupError\u001b[39;00m:\n\u001b[1;32m--> 508\u001b[0m     \u001b[38;5;28;01mraise\u001b[39;00m \u001b[38;5;167;01mRuntimeError\u001b[39;00m(unbound_message) \u001b[38;5;28;01mfrom\u001b[39;00m \u001b[38;5;28;01mNone\u001b[39;00m\n\u001b[0;32m    510\u001b[0m \u001b[38;5;28;01mreturn\u001b[39;00m get_name(obj)\n",
      "\u001b[1;31mRuntimeError\u001b[0m: Working outside of application context.\n\nThis typically means that you attempted to use functionality that needed\nthe current application. To solve this, set up an application context\nwith app.app_context(). See the documentation for more information."
     ]
    }
   ],
   "source": [
    "# create_appでインスタンス化された際 user_listが作成済み\n",
    "user_list = UserList()\n",
    "all_user = user_list._get_all()\n",
    "print(all_user)\n",
    "for user in all_user:\n",
    "    print(user.user_name, user.pass_word)\n"
   ]
  },
  {
   "cell_type": "code",
   "execution_count": 28,
   "metadata": {},
   "outputs": [
    {
     "name": "stdout",
     "output_type": "stream",
     "text": [
      "2024-03-02 20:55:36,275 INFO sqlalchemy.engine.Engine BEGIN (implicit)\n",
      "2024-03-02 20:55:36,277 INFO sqlalchemy.engine.Engine INSERT INTO users (user_token, user_name, pass_word, done) VALUES (?, ?, ?, ?)\n",
      "2024-03-02 20:55:36,278 INFO sqlalchemy.engine.Engine [cached since 24.69s ago] ('#letseat', 'chika', 'eat', 0)\n",
      "2024-03-02 20:55:36,281 INFO sqlalchemy.engine.Engine COMMIT\n"
     ]
    }
   ],
   "source": [
    "# user_listの作成\n",
    "user_list = UserList()\n",
    "# add\n",
    "user_list.add_user(user_token=\"#letseat\", display_name=\"chika\", pass_word=\"eat\") \n",
    "# assert db.session.query(User).filter_by(user_token=\"#thisistoken\").first(), \"Userオブジェクトが作成されていません\"\n"
   ]
  },
  {
   "cell_type": "code",
   "execution_count": 27,
   "metadata": {},
   "outputs": [],
   "source": [
    "# errorが出た際にセッション\n",
    "db.session.rollback()\n",
    "user_list.varified = True\n",
    "db.session.commit()"
   ]
  },
  {
   "cell_type": "code",
   "execution_count": 29,
   "metadata": {},
   "outputs": [
    {
     "name": "stdout",
     "output_type": "stream",
     "text": [
      "2024-03-02 20:55:48,211 INFO sqlalchemy.engine.Engine BEGIN (implicit)\n",
      "2024-03-02 20:55:48,214 INFO sqlalchemy.engine.Engine SELECT users.user_token AS users_user_token, users.user_name AS users_user_name, users.pass_word AS users_pass_word, users.done AS users_done \n",
      "FROM users \n",
      "WHERE users.user_token = ?\n",
      " LIMIT ? OFFSET ?\n",
      "2024-03-02 20:55:48,215 INFO sqlalchemy.engine.Engine [generated in 0.00127s] ('#letseat', 1, 0)\n",
      "\n",
      "\n",
      "user_name: chika\n",
      "user_pass: eat\n",
      "user_token: #letseat\n"
     ]
    }
   ],
   "source": [
    "# check UserList\n",
    "user = user_list.get_user_info(\"#letseat\")\n",
    "\n",
    "# 要素の取得\n",
    "# name \n",
    "user_name = user.user_name\n",
    "# password\n",
    "user_pass = user.pass_word\n",
    "# token\n",
    "user_token = user.user_token\n",
    "\n",
    "print(\"\\n\")\n",
    "print(f\"user_name: {user_name}\")\n",
    "print(f\"user_pass: {user_pass}\")\n",
    "print(f\"user_token: {user_token}\")\n"
   ]
  },
  {
   "cell_type": "code",
   "execution_count": 44,
   "metadata": {},
   "outputs": [
    {
     "name": "stdout",
     "output_type": "stream",
     "text": [
      "2024-03-02 21:03:15,970 INFO sqlalchemy.engine.Engine SELECT users.user_token AS users_user_token, users.user_name AS users_user_name, users.pass_word AS users_pass_word, users.done AS users_done \n",
      "FROM users \n",
      "WHERE users.user_name = ?\n",
      " LIMIT ? OFFSET ?\n",
      "2024-03-02 21:03:15,971 INFO sqlalchemy.engine.Engine [cached since 342.3s ago] ('amazingman', 1, 0)\n",
      "<User #wowow>\n"
     ]
    }
   ],
   "source": [
    "# 404エラー受け取り\n",
    "try:\n",
    "    # 例外発生受け取り\n",
    "    c = User.query.filter_by(user_name=\"amazingman\").first_or_404()\n",
    "    print(c)\n",
    "except BaseException as e:\n",
    "    print(\"This is 404 Error\", e)\n"
   ]
  },
  {
   "cell_type": "code",
   "execution_count": 47,
   "metadata": {},
   "outputs": [
    {
     "name": "stdout",
     "output_type": "stream",
     "text": [
      "2024-03-02 21:05:48,335 INFO sqlalchemy.engine.Engine SELECT users.user_token AS users_user_token, users.user_name AS users_user_name, users.pass_word AS users_pass_word, users.done AS users_done \n",
      "FROM users \n",
      "WHERE users.user_name = ?\n",
      " LIMIT ? OFFSET ?\n",
      "2024-03-02 21:05:48,337 INFO sqlalchemy.engine.Engine [cached since 494.6s ago] ('foke', 1, 0)\n",
      "None\n"
     ]
    }
   ],
   "source": [
    "# db確認\n",
    "c = User.query.filter_by(user_name=\"foke\").first()\n",
    "print(c)\n"
   ]
  },
  {
   "cell_type": "code",
   "execution_count": 52,
   "metadata": {},
   "outputs": [],
   "source": [
    "# db終了\n",
    "db.session.commit()\n",
    "db.session.close()\n"
   ]
  },
  {
   "cell_type": "markdown",
   "metadata": {},
   "source": [
    "### アプリケーション動作\n",
    "↓ターミナル↓\n",
    "```powershell\n",
    "$python run_server\n",
    "```\n"
   ]
  },
  {
   "cell_type": "code",
   "execution_count": 38,
   "metadata": {},
   "outputs": [],
   "source": [
    "import requests\n",
    "import json\n",
    "\n",
    "# /v1/regist_user_data 動作確認\n",
    "data = json.dumps({\n",
    "    \"display_name\":\"goodman\",\n",
    "    \"pass_word\":\"goodgood\"    \n",
    "})\n",
    "\n",
    "content = requests.post(\n",
    "    \"http://127.0.0.1:8888/v1/regist_user_data\", \n",
    "    data=data, \n",
    "    headers={'Content-Type': 'application/json'}\n",
    ")\n"
   ]
  },
  {
   "cell_type": "code",
   "execution_count": 39,
   "metadata": {},
   "outputs": [
    {
     "name": "stdout",
     "output_type": "stream",
     "text": [
      "{'user_id': None}\n"
     ]
    }
   ],
   "source": [
    "print(content.json())"
   ]
  },
  {
   "cell_type": "code",
   "execution_count": null,
   "metadata": {},
   "outputs": [],
   "source": []
  }
 ],
 "metadata": {
  "kernelspec": {
   "display_name": "club_activity_app",
   "language": "python",
   "name": "python3"
  },
  "language_info": {
   "codemirror_mode": {
    "name": "ipython",
    "version": 3
   },
   "file_extension": ".py",
   "mimetype": "text/x-python",
   "name": "python",
   "nbconvert_exporter": "python",
   "pygments_lexer": "ipython3",
   "version": "3.11.5"
  }
 },
 "nbformat": 4,
 "nbformat_minor": 2
}
